{
  "nbformat": 4,
  "nbformat_minor": 0,
  "metadata": {
    "accelerator": "GPU",
    "colab": {
      "name": "ranet_notebook.ipynb",
      "provenance": [],
      "collapsed_sections": [],
      "toc_visible": true
    },
    "kernelspec": {
      "display_name": "Python 3",
      "language": "python",
      "name": "python3"
    },
    "language_info": {
      "codemirror_mode": {
        "name": "ipython",
        "version": 3
      },
      "file_extension": ".py",
      "mimetype": "text/x-python",
      "name": "python",
      "nbconvert_exporter": "python",
      "pygments_lexer": "ipython3",
      "version": "3.6.10"
    }
  },
  "cells": [
    {
      "cell_type": "markdown",
      "metadata": {
        "collapsed": true,
        "id": "DLG5bngSMwLu"
      },
      "source": [
        "# Ranet on TF2 keras\n",
        "## Running Cifar10\n",
        "### Implementation by: Max Midwinter\n",
        "### Mark 1\n",
        "\n",
        "#### Import Dependencies"
      ]
    },
    {
      "cell_type": "code",
      "metadata": {
        "id": "Yu9jl89qMwLu"
      },
      "source": [
        "import hyperparameters as hp\n",
        "import tensorflow as tf\n",
        "import matplotlib.pyplot as plt\n",
        "import numpy as np\n",
        "import os\n",
        "\n",
        "from tensorflow.keras.datasets import cifar10\n",
        "from tensorflow.keras.layers import Conv2D, MaxPool2D, Flatten, Dense, BatchNormalization\n",
        "from tensorflow.keras.layers import Lambda, ReLU, Input, UpSampling2D\n",
        "from tensorflow.keras.models import Model\n",
        "from tensorflow.keras.preprocessing.image import ImageDataGenerator\n",
        "\n",
        "from models.small_net import SmallModel\n",
        "from models.med_net import MedModel\n",
        "from models.large_net import LargeModel\n",
        "\n",
        "from main import train, test"
      ],
      "execution_count": 1,
      "outputs": []
    },
    {
      "cell_type": "markdown",
      "metadata": {
        "id": "cfoG5kBIMwLu"
      },
      "source": [
        "#### Loading the Cifar10 dataset\n",
        "#### Normalize images"
      ]
    },
    {
      "cell_type": "code",
      "metadata": {
        "id": "8pqA34cUMwLu",
        "colab": {
          "base_uri": "https://localhost:8080/",
          "height": 199
        },
        "outputId": "4c6e0cc6-e15c-41a6-8bf9-4c4fdfb58d86"
      },
      "source": [
        "# Setting class names for the dataset\n",
        "class_names = ['airplane', 'automobile', 'bird', 'cat', 'deer', 'dog', 'frog', 'horse', 'ship', 'truck']\n",
        "# Loading the dataset\n",
        "(X_train, y_train), (X_test, y_test) = cifar10.load_data()\n",
        "\n",
        "# normalize images\n",
        "X_train = X_train / 255.0\n",
        "X_test = X_test / 255.0\n",
        "\n",
        "#x_m = X_train.mean(axis=(0,1,2))\n",
        "#x_std = X_train.std(axis=(0,1,2))\n",
        "\n",
        "# large data\n",
        "X_train_large = X_train\n",
        "X_test_large = X_test\n",
        "\n",
        "# medium data\n",
        "X_train_med = tf.image.resize_with_pad(X_train, 16, 16, antialias=True)\n",
        "X_test_med = tf.image.resize_with_pad(X_test, 16, 16, antialias=True)\n",
        "\n",
        "# small data\n",
        "X_train_small = tf.image.resize_with_pad(X_train, 8, 8, antialias=True)\n",
        "X_test_small = tf.image.resize_with_pad(X_test, 8, 8, antialias=True)\n",
        "\n",
        "fig, axes = plt.subplots(1, 3)\n",
        "axes[0].imshow(X_test_small[10])\n",
        "axes[1].imshow(X_test_med[10])\n",
        "axes[2].imshow(X_test_large[10])\n",
        "\n",
        "#https://towardsdatascience.com/image-augmentation-for-deep-learning-using-keras-and-histogram-equalization-9329f6ae5085"
      ],
      "execution_count": 2,
      "outputs": [
        {
          "output_type": "stream",
          "text": [
            "Downloading data from https://www.cs.toronto.edu/~kriz/cifar-10-python.tar.gz\n",
            "170500096/170498071 [==============================] - 4s 0us/step\n"
          ],
          "name": "stdout"
        },
        {
          "output_type": "execute_result",
          "data": {
            "text/plain": [
              "<matplotlib.image.AxesImage at 0x7fbfe00d06d8>"
            ]
          },
          "metadata": {
            "tags": []
          },
          "execution_count": 2
        },
        {
          "output_type": "display_data",
          "data": {
            "image/png": "[encoded data removed]",
            "text/plain": [
              "<Figure size 432x288 with 3 Axes>"
            ]
          },
          "metadata": {
            "tags": [],
            "needs_background": "light"
          }
        }
      ]
    },
    {
      "cell_type": "markdown",
      "metadata": {
        "id": "_4VnbItpWrCF"
      },
      "source": [
        "#### Specify Data Augmentation Parameters\n"
      ]
    },
    {
      "cell_type": "code",
      "metadata": {
        "id": "jLP0FJG0MwLu"
      },
      "source": [
        "datagen = ImageDataGenerator(\n",
        "    width_shift_range=0,\n",
        "    height_shift_range=0,\n",
        "    horizontal_flip=True,\n",
        "    rotation_range=0,\n",
        "    fill_mode='constant')"
      ],
      "execution_count": 3,
      "outputs": []
    },
    {
      "cell_type": "markdown",
      "metadata": {
        "id": "cqenkXhVMwLu"
      },
      "source": [
        "#### Define Small Models"
      ]
    },
    {
      "cell_type": "code",
      "metadata": {
        "id": "0ft708C_MwLu",
        "colab": {
          "base_uri": "https://localhost:8080/"
        },
        "outputId": "b4f665f3-4a89-464e-a0b1-f4ef813cf428"
      },
      "source": [
        "### Create Instance of SmallModel\n",
        "small_model = SmallModel()\n",
        "\n",
        "small_model(tf.keras.Input(shape=(8, 8, 3)))\n",
        "checkpoint_path = \"./small_model_checkpoints/\"\n",
        "small_model.summary()"
      ],
      "execution_count": 4,
      "outputs": [
        {
          "output_type": "stream",
          "text": [
            "WARNING:tensorflow:From /content/models/small_net.py:53: Layer.apply (from tensorflow.python.keras.engine.base_layer) is deprecated and will be removed in a future version.\n",
            "Instructions for updating:\n",
            "Please use `layer.__call__` method instead.\n",
            "Model: \"small_model\"\n",
            "_________________________________________________________________\n",
            "Layer (type)                 Output Shape              Param #   \n",
            "=================================================================\n",
            "small_conv1 (Conv2D)         (None, 8, 8, 64)          1792      \n",
            "_________________________________________________________________\n",
            "small_bn1 (BatchNormalizatio (None, 8, 8, 64)          256       \n",
            "_________________________________________________________________\n",
            "small_relu1 (ReLU)           (None, 8, 8, 64)          0         \n",
            "_________________________________________________________________\n",
            "small_conv2 (Conv2D)         (None, 8, 8, 64)          36928     \n",
            "_________________________________________________________________\n",
            "small_bn2 (BatchNormalizatio (None, 8, 8, 64)          256       \n",
            "_________________________________________________________________\n",
            "small_relu2 (ReLU)           (None, 8, 8, 64)          0         \n",
            "_________________________________________________________________\n",
            "small_class_conv1 (Conv2D)   (None, 4, 4, 128)         73856     \n",
            "_________________________________________________________________\n",
            "small_class_conv2 (Conv2D)   (None, 2, 2, 128)         147584    \n",
            "_________________________________________________________________\n",
            "small_class_flatten (Flatten (None, 512)               0         \n",
            "_________________________________________________________________\n",
            "dense (Dense)                (None, 10)                5130      \n",
            "=================================================================\n",
            "Total params: 265,802\n",
            "Trainable params: 265,546\n",
            "Non-trainable params: 256\n",
            "_________________________________________________________________\n"
          ],
          "name": "stdout"
        }
      ]
    },
    {
      "cell_type": "markdown",
      "metadata": {
        "id": "O9TTLK_1MwLv"
      },
      "source": [
        "#### Fit Small Model"
      ]
    },
    {
      "cell_type": "code",
      "metadata": {
        "id": "ZJso0v0TMwLv",
        "colab": {
          "base_uri": "https://localhost:8080/"
        },
        "outputId": "8a384705-09a6-43d5-feb9-af9945cdf6b3"
      },
      "source": [
        "# Compile model graph\n",
        "small_model.compile(\n",
        "    optimizer=small_model.optimizer,\n",
        "    loss=small_model.loss_fn,\n",
        "    metrics=[\"sparse_categorical_accuracy\"])\n",
        "\n",
        "# Create checkpoint path\n",
        "if not os.path.exists(checkpoint_path):\n",
        "    os.makedirs(checkpoint_path)\n",
        "\n",
        "train(small_model, X_train_small, y_train, X_test_small, y_test, checkpoint_path,datagen=datagen)\n",
        "small_model.save_weights(\"./models/small_weights.h5\")\n",
        "\n",
        "test_loss, test_accuracy = small_model.evaluate(X_test_small, y_test)\n",
        "print(\"Small Model Test Accuracy: {}\".format(test_accuracy))"
      ],
      "execution_count": 5,
      "outputs": [
        {
          "output_type": "stream",
          "text": [
            "Epoch 1/25\n",
            "782/782 [==============================] - 3s 4ms/step - loss: 1.9593 - sparse_categorical_accuracy: 0.2997 - val_loss: 1.8049 - val_sparse_categorical_accuracy: 0.3708\n",
            "Epoch 2/25\n",
            "782/782 [==============================] - 3s 4ms/step - loss: 1.7432 - sparse_categorical_accuracy: 0.3864 - val_loss: 1.6772 - val_sparse_categorical_accuracy: 0.4132\n",
            "Epoch 3/25\n",
            "782/782 [==============================] - 3s 4ms/step - loss: 1.6503 - sparse_categorical_accuracy: 0.4174 - val_loss: 1.6007 - val_sparse_categorical_accuracy: 0.4305\n",
            "Epoch 4/25\n",
            "782/782 [==============================] - 3s 4ms/step - loss: 1.5890 - sparse_categorical_accuracy: 0.4377 - val_loss: 1.5525 - val_sparse_categorical_accuracy: 0.4515\n",
            "Epoch 5/25\n",
            "782/782 [==============================] - 3s 4ms/step - loss: 1.5410 - sparse_categorical_accuracy: 0.4554 - val_loss: 1.5062 - val_sparse_categorical_accuracy: 0.4690\n",
            "Epoch 6/25\n",
            "782/782 [==============================] - 3s 4ms/step - loss: 1.5027 - sparse_categorical_accuracy: 0.4684 - val_loss: 1.5099 - val_sparse_categorical_accuracy: 0.4659\n",
            "Epoch 7/25\n",
            "782/782 [==============================] - 3s 4ms/step - loss: 1.4710 - sparse_categorical_accuracy: 0.4785 - val_loss: 1.4492 - val_sparse_categorical_accuracy: 0.4884\n",
            "Epoch 8/25\n",
            "782/782 [==============================] - 3s 4ms/step - loss: 1.4473 - sparse_categorical_accuracy: 0.4877 - val_loss: 1.4268 - val_sparse_categorical_accuracy: 0.4936\n",
            "Epoch 9/25\n",
            "782/782 [==============================] - 3s 4ms/step - loss: 1.4249 - sparse_categorical_accuracy: 0.4950 - val_loss: 1.4138 - val_sparse_categorical_accuracy: 0.5036\n",
            "Epoch 10/25\n",
            "782/782 [==============================] - 3s 4ms/step - loss: 1.4030 - sparse_categorical_accuracy: 0.5016 - val_loss: 1.3928 - val_sparse_categorical_accuracy: 0.5071\n",
            "Epoch 11/25\n",
            "782/782 [==============================] - 3s 4ms/step - loss: 1.3845 - sparse_categorical_accuracy: 0.5102 - val_loss: 1.4057 - val_sparse_categorical_accuracy: 0.5003\n",
            "Epoch 12/25\n",
            "782/782 [==============================] - 3s 4ms/step - loss: 1.3682 - sparse_categorical_accuracy: 0.5149 - val_loss: 1.3670 - val_sparse_categorical_accuracy: 0.5160\n",
            "Epoch 13/25\n",
            "782/782 [==============================] - 3s 4ms/step - loss: 1.3513 - sparse_categorical_accuracy: 0.5206 - val_loss: 1.3505 - val_sparse_categorical_accuracy: 0.5210\n",
            "Epoch 14/25\n",
            "782/782 [==============================] - 3s 4ms/step - loss: 1.3366 - sparse_categorical_accuracy: 0.5261 - val_loss: 1.4081 - val_sparse_categorical_accuracy: 0.5032\n",
            "Epoch 15/25\n",
            "782/782 [==============================] - 3s 4ms/step - loss: 1.3228 - sparse_categorical_accuracy: 0.5308 - val_loss: 1.3308 - val_sparse_categorical_accuracy: 0.5304\n",
            "Epoch 16/25\n",
            "782/782 [==============================] - 3s 4ms/step - loss: 1.3124 - sparse_categorical_accuracy: 0.5360 - val_loss: 1.3089 - val_sparse_categorical_accuracy: 0.5340\n",
            "Epoch 17/25\n",
            "782/782 [==============================] - 3s 4ms/step - loss: 1.3016 - sparse_categorical_accuracy: 0.5402 - val_loss: 1.3085 - val_sparse_categorical_accuracy: 0.5375\n",
            "Epoch 18/25\n",
            "782/782 [==============================] - 3s 4ms/step - loss: 1.2888 - sparse_categorical_accuracy: 0.5434 - val_loss: 1.3132 - val_sparse_categorical_accuracy: 0.5357\n",
            "Epoch 19/25\n",
            "782/782 [==============================] - 3s 4ms/step - loss: 1.2793 - sparse_categorical_accuracy: 0.5486 - val_loss: 1.3131 - val_sparse_categorical_accuracy: 0.5373\n",
            "Epoch 20/25\n",
            "782/782 [==============================] - 3s 4ms/step - loss: 1.2694 - sparse_categorical_accuracy: 0.5531 - val_loss: 1.2980 - val_sparse_categorical_accuracy: 0.5389\n",
            "Epoch 21/25\n",
            "782/782 [==============================] - 3s 4ms/step - loss: 1.2601 - sparse_categorical_accuracy: 0.5568 - val_loss: 1.3538 - val_sparse_categorical_accuracy: 0.5319\n",
            "Epoch 22/25\n",
            "782/782 [==============================] - 3s 4ms/step - loss: 1.2479 - sparse_categorical_accuracy: 0.5595 - val_loss: 1.4193 - val_sparse_categorical_accuracy: 0.5053\n",
            "Epoch 23/25\n",
            "782/782 [==============================] - 3s 4ms/step - loss: 1.2417 - sparse_categorical_accuracy: 0.5633 - val_loss: 1.3093 - val_sparse_categorical_accuracy: 0.5470\n",
            "Epoch 24/25\n",
            "782/782 [==============================] - 3s 4ms/step - loss: 1.2317 - sparse_categorical_accuracy: 0.5657 - val_loss: 1.2708 - val_sparse_categorical_accuracy: 0.5526\n",
            "Epoch 25/25\n",
            "782/782 [==============================] - 3s 4ms/step - loss: 1.2249 - sparse_categorical_accuracy: 0.5711 - val_loss: 1.2436 - val_sparse_categorical_accuracy: 0.5591\n",
            "313/313 [==============================] - 1s 2ms/step - loss: 1.2436 - sparse_categorical_accuracy: 0.5591\n",
            "Small Model Test Accuracy: 0.5590999722480774\n"
          ],
          "name": "stdout"
        }
      ]
    },
    {
      "cell_type": "markdown",
      "metadata": {
        "id": "fDzSqBiKMwLv"
      },
      "source": [
        "#### Define Medium Model"
      ]
    },
    {
      "cell_type": "code",
      "metadata": {
        "id": "Rp4P0blbMwLv",
        "colab": {
          "base_uri": "https://localhost:8080/"
        },
        "outputId": "2f727040-8323-4739-daa7-c8b7d9c7486d"
      },
      "source": [
        "### Create Instance of MedModel\n",
        "med_model = MedModel()\n",
        "\n",
        "med_model(tf.keras.Input(shape=(16, 16, 3)))\n",
        "checkpoint_path = \"./med_model_checkpoints/\"\n",
        "med_model.summary()"
      ],
      "execution_count": 6,
      "outputs": [
        {
          "output_type": "stream",
          "text": [
            "/content\n",
            "Model: \"med_model\"\n",
            "_________________________________________________________________\n",
            "Layer (type)                 Output Shape              Param #   \n",
            "=================================================================\n",
            "small_model_1 (SmallModel)   (None, 10)                265802    \n",
            "_________________________________________________________________\n",
            "small_conv1 (Conv2D)         (None, 16, 16, 64)        1792      \n",
            "_________________________________________________________________\n",
            "small_bn1 (BatchNormalizatio (None, 16, 16, 64)        256       \n",
            "_________________________________________________________________\n",
            "small_relu1 (ReLU)           (None, 16, 16, 64)        0         \n",
            "_________________________________________________________________\n",
            "small_conv2 (Conv2D)         (None, 16, 16, 64)        36928     \n",
            "_________________________________________________________________\n",
            "med_conv1 (Conv2D)           (None, 16, 16, 64)        1792      \n",
            "_________________________________________________________________\n",
            "med_concat1 (Concatenate)    (None, 16, 16, 128)       0         \n",
            "_________________________________________________________________\n",
            "med_bn1 (BatchNormalization) (None, 16, 16, 128)       512       \n",
            "_________________________________________________________________\n",
            "med_relu1 (ReLU)             (None, 16, 16, 128)       0         \n",
            "_________________________________________________________________\n",
            "med_conv2 (Conv2D)           (None, 16, 16, 64)        73792     \n",
            "_________________________________________________________________\n",
            "med_concat2 (Concatenate)    (None, 16, 16, 128)       0         \n",
            "_________________________________________________________________\n",
            "med_bn2 (BatchNormalization) (None, 16, 16, 128)       512       \n",
            "_________________________________________________________________\n",
            "med_relu2 (ReLU)             (None, 16, 16, 128)       0         \n",
            "_________________________________________________________________\n",
            "med_conv3 (Conv2D)           (None, 16, 16, 64)        73792     \n",
            "_________________________________________________________________\n",
            "med_bn3 (BatchNormalization) (None, 16, 16, 64)        256       \n",
            "_________________________________________________________________\n",
            "med_relu3 (ReLU)             (None, 16, 16, 64)        0         \n",
            "_________________________________________________________________\n",
            "med_conv4 (Conv2D)           (None, 16, 16, 64)        36928     \n",
            "_________________________________________________________________\n",
            "med_bn4 (BatchNormalization) (None, 16, 16, 64)        256       \n",
            "_________________________________________________________________\n",
            "med_relu4 (ReLU)             (None, 16, 16, 64)        0         \n",
            "_________________________________________________________________\n",
            "med_class_conv1 (Conv2D)     (None, 8, 8, 128)         73856     \n",
            "_________________________________________________________________\n",
            "med_class_conv2 (Conv2D)     (None, 4, 4, 128)         147584    \n",
            "_________________________________________________________________\n",
            "med_class_flatten (Flatten)  (None, 2048)              0         \n",
            "_________________________________________________________________\n",
            "dense_2 (Dense)              (None, 10)                20490     \n",
            "=================================================================\n",
            "Total params: 734,548\n",
            "Trainable params: 694,676\n",
            "Non-trainable params: 39,872\n",
            "_________________________________________________________________\n"
          ],
          "name": "stdout"
        }
      ]
    },
    {
      "cell_type": "markdown",
      "metadata": {
        "id": "gL1uBruiMwLv"
      },
      "source": [
        "#### Fit Medim Model"
      ]
    },
    {
      "cell_type": "code",
      "metadata": {
        "id": "WgPU4PZeMwLv",
        "colab": {
          "base_uri": "https://localhost:8080/"
        },
        "outputId": "58aafef6-297a-49af-9b66-6aecfe413970"
      },
      "source": [
        "# Compile model graph\n",
        "med_model.compile(\n",
        "    optimizer=med_model.optimizer,\n",
        "    loss=med_model.loss_fn,\n",
        "    metrics=[\"sparse_categorical_accuracy\"])\n",
        "\n",
        "# Create checkpoint path\n",
        "if not os.path.exists(checkpoint_path):\n",
        "    os.makedirs(checkpoint_path)\n",
        "\n",
        "train(med_model, X_train_med, y_train, X_test_med, y_test, checkpoint_path,datagen=datagen)\n",
        "med_model.save_weights(\"./models/med_weights.h5\")\n",
        "\n",
        "test_loss, test_accuracy = med_model.evaluate(X_test_med, y_test)\n",
        "print(\"Medium Model Test Accuracy: {}\".format(test_accuracy))"
      ],
      "execution_count": 7,
      "outputs": [
        {
          "output_type": "stream",
          "text": [
            "Epoch 1/25\n",
            "WARNING:tensorflow:Gradients do not exist for variables ['small_model_1/small_conv1/kernel:0', 'small_model_1/small_conv1/bias:0', 'small_model_1/small_bn1/gamma:0', 'small_model_1/small_bn1/beta:0', 'small_model_1/small_conv2/kernel:0', 'small_model_1/small_conv2/bias:0', 'small_model_1/small_bn2/gamma:0', 'small_model_1/small_bn2/beta:0', 'small_model_1/small_class_conv1/kernel:0', 'small_model_1/small_class_conv1/bias:0', 'small_model_1/small_class_conv2/kernel:0', 'small_model_1/small_class_conv2/bias:0', 'small_model_1/dense_1/kernel:0', 'small_model_1/dense_1/bias:0'] when minimizing the loss.\n",
            "WARNING:tensorflow:Gradients do not exist for variables ['small_model_1/small_conv1/kernel:0', 'small_model_1/small_conv1/bias:0', 'small_model_1/small_bn1/gamma:0', 'small_model_1/small_bn1/beta:0', 'small_model_1/small_conv2/kernel:0', 'small_model_1/small_conv2/bias:0', 'small_model_1/small_bn2/gamma:0', 'small_model_1/small_bn2/beta:0', 'small_model_1/small_class_conv1/kernel:0', 'small_model_1/small_class_conv1/bias:0', 'small_model_1/small_class_conv2/kernel:0', 'small_model_1/small_class_conv2/bias:0', 'small_model_1/dense_1/kernel:0', 'small_model_1/dense_1/bias:0'] when minimizing the loss.\n",
            "WARNING:tensorflow:Gradients do not exist for variables ['small_model_1/small_conv1/kernel:0', 'small_model_1/small_conv1/bias:0', 'small_model_1/small_bn1/gamma:0', 'small_model_1/small_bn1/beta:0', 'small_model_1/small_conv2/kernel:0', 'small_model_1/small_conv2/bias:0', 'small_model_1/small_bn2/gamma:0', 'small_model_1/small_bn2/beta:0', 'small_model_1/small_class_conv1/kernel:0', 'small_model_1/small_class_conv1/bias:0', 'small_model_1/small_class_conv2/kernel:0', 'small_model_1/small_class_conv2/bias:0', 'small_model_1/dense_1/kernel:0', 'small_model_1/dense_1/bias:0'] when minimizing the loss.\n",
            "WARNING:tensorflow:Gradients do not exist for variables ['small_model_1/small_conv1/kernel:0', 'small_model_1/small_conv1/bias:0', 'small_model_1/small_bn1/gamma:0', 'small_model_1/small_bn1/beta:0', 'small_model_1/small_conv2/kernel:0', 'small_model_1/small_conv2/bias:0', 'small_model_1/small_bn2/gamma:0', 'small_model_1/small_bn2/beta:0', 'small_model_1/small_class_conv1/kernel:0', 'small_model_1/small_class_conv1/bias:0', 'small_model_1/small_class_conv2/kernel:0', 'small_model_1/small_class_conv2/bias:0', 'small_model_1/dense_1/kernel:0', 'small_model_1/dense_1/bias:0'] when minimizing the loss.\n",
            "782/782 [==============================] - 8s 11ms/step - loss: 1.8431 - sparse_categorical_accuracy: 0.3410 - val_loss: 1.5714 - val_sparse_categorical_accuracy: 0.4400\n",
            "Epoch 2/25\n",
            "782/782 [==============================] - 8s 10ms/step - loss: 1.4845 - sparse_categorical_accuracy: 0.4694 - val_loss: 1.3991 - val_sparse_categorical_accuracy: 0.4901\n",
            "Epoch 3/25\n",
            "782/782 [==============================] - 8s 11ms/step - loss: 1.3621 - sparse_categorical_accuracy: 0.5121 - val_loss: 1.3155 - val_sparse_categorical_accuracy: 0.5253\n",
            "Epoch 4/25\n",
            "782/782 [==============================] - 8s 11ms/step - loss: 1.2934 - sparse_categorical_accuracy: 0.5407 - val_loss: 1.2686 - val_sparse_categorical_accuracy: 0.5442\n",
            "Epoch 5/25\n",
            "782/782 [==============================] - 8s 11ms/step - loss: 1.2462 - sparse_categorical_accuracy: 0.5572 - val_loss: 1.2347 - val_sparse_categorical_accuracy: 0.5562\n",
            "Epoch 6/25\n",
            "782/782 [==============================] - 8s 11ms/step - loss: 1.2082 - sparse_categorical_accuracy: 0.5701 - val_loss: 1.2046 - val_sparse_categorical_accuracy: 0.5680\n",
            "Epoch 7/25\n",
            "782/782 [==============================] - 8s 11ms/step - loss: 1.1727 - sparse_categorical_accuracy: 0.5864 - val_loss: 1.1815 - val_sparse_categorical_accuracy: 0.5780\n",
            "Epoch 8/25\n",
            "782/782 [==============================] - 8s 11ms/step - loss: 1.1429 - sparse_categorical_accuracy: 0.5952 - val_loss: 1.1594 - val_sparse_categorical_accuracy: 0.5847\n",
            "Epoch 9/25\n",
            "782/782 [==============================] - 8s 11ms/step - loss: 1.1157 - sparse_categorical_accuracy: 0.6063 - val_loss: 1.1336 - val_sparse_categorical_accuracy: 0.5932\n",
            "Epoch 10/25\n",
            "782/782 [==============================] - 8s 11ms/step - loss: 1.0964 - sparse_categorical_accuracy: 0.6149 - val_loss: 1.1181 - val_sparse_categorical_accuracy: 0.5996\n",
            "Epoch 11/25\n",
            "782/782 [==============================] - 8s 11ms/step - loss: 1.0677 - sparse_categorical_accuracy: 0.6238 - val_loss: 1.1044 - val_sparse_categorical_accuracy: 0.6074\n",
            "Epoch 12/25\n",
            "782/782 [==============================] - 8s 11ms/step - loss: 1.0494 - sparse_categorical_accuracy: 0.6313 - val_loss: 1.0904 - val_sparse_categorical_accuracy: 0.6097\n",
            "Epoch 13/25\n",
            "782/782 [==============================] - 8s 11ms/step - loss: 1.0315 - sparse_categorical_accuracy: 0.6393 - val_loss: 1.0742 - val_sparse_categorical_accuracy: 0.6205\n",
            "Epoch 14/25\n",
            "782/782 [==============================] - 8s 11ms/step - loss: 1.0108 - sparse_categorical_accuracy: 0.6442 - val_loss: 1.0609 - val_sparse_categorical_accuracy: 0.6233\n",
            "Epoch 15/25\n",
            "782/782 [==============================] - 8s 11ms/step - loss: 0.9955 - sparse_categorical_accuracy: 0.6507 - val_loss: 1.0525 - val_sparse_categorical_accuracy: 0.6261\n",
            "Epoch 16/25\n",
            "782/782 [==============================] - 8s 11ms/step - loss: 0.9806 - sparse_categorical_accuracy: 0.6572 - val_loss: 1.0451 - val_sparse_categorical_accuracy: 0.6283\n",
            "Epoch 17/25\n",
            "782/782 [==============================] - 8s 11ms/step - loss: 0.9673 - sparse_categorical_accuracy: 0.6631 - val_loss: 1.0364 - val_sparse_categorical_accuracy: 0.6338\n",
            "Epoch 18/25\n",
            "782/782 [==============================] - 8s 11ms/step - loss: 0.9531 - sparse_categorical_accuracy: 0.6675 - val_loss: 1.0211 - val_sparse_categorical_accuracy: 0.6381\n",
            "Epoch 19/25\n",
            "782/782 [==============================] - 8s 11ms/step - loss: 0.9401 - sparse_categorical_accuracy: 0.6717 - val_loss: 1.0161 - val_sparse_categorical_accuracy: 0.6371\n",
            "Epoch 20/25\n",
            "782/782 [==============================] - 8s 11ms/step - loss: 0.9272 - sparse_categorical_accuracy: 0.6777 - val_loss: 1.0101 - val_sparse_categorical_accuracy: 0.6433\n",
            "Epoch 21/25\n",
            "782/782 [==============================] - 8s 11ms/step - loss: 0.9170 - sparse_categorical_accuracy: 0.6807 - val_loss: 1.0146 - val_sparse_categorical_accuracy: 0.6398\n",
            "Epoch 22/25\n",
            "782/782 [==============================] - 9s 11ms/step - loss: 0.9029 - sparse_categorical_accuracy: 0.6848 - val_loss: 1.0050 - val_sparse_categorical_accuracy: 0.6463\n",
            "Epoch 23/25\n",
            "782/782 [==============================] - 9s 11ms/step - loss: 0.8973 - sparse_categorical_accuracy: 0.6879 - val_loss: 1.0011 - val_sparse_categorical_accuracy: 0.6466\n",
            "Epoch 24/25\n",
            "782/782 [==============================] - 8s 11ms/step - loss: 0.8842 - sparse_categorical_accuracy: 0.6931 - val_loss: 0.9899 - val_sparse_categorical_accuracy: 0.6547\n",
            "Epoch 25/25\n",
            "782/782 [==============================] - 9s 11ms/step - loss: 0.8744 - sparse_categorical_accuracy: 0.6955 - val_loss: 0.9804 - val_sparse_categorical_accuracy: 0.6601\n",
            "313/313 [==============================] - 1s 3ms/step - loss: 0.9804 - sparse_categorical_accuracy: 0.6601\n",
            "Medium Model Test Accuracy: 0.660099983215332\n"
          ],
          "name": "stdout"
        }
      ]
    },
    {
      "cell_type": "markdown",
      "metadata": {
        "id": "w6UioR4VMjaL"
      },
      "source": [
        "#### Define Large Model"
      ]
    },
    {
      "cell_type": "code",
      "metadata": {
        "id": "HUxQegWLMiN3",
        "colab": {
          "base_uri": "https://localhost:8080/"
        },
        "outputId": "64b4fd83-9236-46c4-dc09-a8f7a58b500f"
      },
      "source": [
        "### Create Instance of LargeModel\n",
        "large_model = LargeModel()\n",
        "\n",
        "large_model(tf.keras.Input(shape=(32, 32, 3)))\n",
        "checkpoint_path = \"./large_model_checkpoints/\"\n",
        "large_model.summary()"
      ],
      "execution_count": 8,
      "outputs": [
        {
          "output_type": "stream",
          "text": [
            "/content\n",
            "/content\n",
            "/content\n",
            "Model: \"large_model\"\n",
            "_________________________________________________________________\n",
            "Layer (type)                 Output Shape              Param #   \n",
            "=================================================================\n",
            "small_model_2 (SmallModel)   (None, 10)                265802    \n",
            "_________________________________________________________________\n",
            "med_model_1 (MedModel)       (None, 10)                734548    \n",
            "_________________________________________________________________\n",
            "small_conv1 (Conv2D)         (None, 32, 32, 64)        1792      \n",
            "_________________________________________________________________\n",
            "small_bn1 (BatchNormalizatio (None, 32, 32, 64)        256       \n",
            "_________________________________________________________________\n",
            "small_relu1 (ReLU)           (None, 32, 32, 64)        0         \n",
            "_________________________________________________________________\n",
            "small_conv2 (Conv2D)         (None, 32, 32, 64)        36928     \n",
            "_________________________________________________________________\n",
            "med_conv1 (Conv2D)           (None, 32, 32, 64)        1792      \n",
            "_________________________________________________________________\n",
            "med_concat1 (Concatenate)    (None, 32, 32, 128)       0         \n",
            "_________________________________________________________________\n",
            "med_bn1 (BatchNormalization) (None, 32, 32, 128)       512       \n",
            "_________________________________________________________________\n",
            "med_relu1 (ReLU)             (None, 32, 32, 128)       0         \n",
            "_________________________________________________________________\n",
            "med_conv2 (Conv2D)           (None, 32, 32, 64)        73792     \n",
            "_________________________________________________________________\n",
            "med_concat2 (Concatenate)    (None, 32, 32, 128)       0         \n",
            "_________________________________________________________________\n",
            "med_bn2 (BatchNormalization) (None, 32, 32, 128)       512       \n",
            "_________________________________________________________________\n",
            "med_relu2 (ReLU)             (None, 32, 32, 128)       0         \n",
            "_________________________________________________________________\n",
            "med_conv3 (Conv2D)           (None, 32, 32, 64)        73792     \n",
            "_________________________________________________________________\n",
            "med_bn3 (BatchNormalization) (None, 32, 32, 64)        256       \n",
            "_________________________________________________________________\n",
            "med_relu3 (ReLU)             (None, 32, 32, 64)        0         \n",
            "_________________________________________________________________\n",
            "med_conv4 (Conv2D)           (None, 32, 32, 64)        36928     \n",
            "_________________________________________________________________\n",
            "large_conv1 (Conv2D)         (None, 32, 32, 64)        1792      \n",
            "_________________________________________________________________\n",
            "large_concat1 (Concatenate)  (None, 32, 32, 128)       0         \n",
            "_________________________________________________________________\n",
            "large_bn1 (BatchNormalizatio (None, 32, 32, 128)       512       \n",
            "_________________________________________________________________\n",
            "large_relu1 (ReLU)           (None, 32, 32, 128)       0         \n",
            "_________________________________________________________________\n",
            "large_conv2 (Conv2D)         (None, 32, 32, 64)        73792     \n",
            "_________________________________________________________________\n",
            "large_concat2 (Concatenate)  (None, 32, 32, 128)       0         \n",
            "_________________________________________________________________\n",
            "large_bn2 (BatchNormalizatio (None, 32, 32, 128)       512       \n",
            "_________________________________________________________________\n",
            "large_relu2 (ReLU)           (None, 32, 32, 128)       0         \n",
            "_________________________________________________________________\n",
            "large_conv3 (Conv2D)         (None, 32, 32, 64)        73792     \n",
            "_________________________________________________________________\n",
            "large_concat3 (Concatenate)  (None, 32, 32, 128)       0         \n",
            "_________________________________________________________________\n",
            "large_bn3 (BatchNormalizatio (None, 32, 32, 128)       512       \n",
            "_________________________________________________________________\n",
            "large_relu3 (ReLU)           (None, 32, 32, 128)       0         \n",
            "_________________________________________________________________\n",
            "large_conv4 (Conv2D)         (None, 32, 32, 64)        73792     \n",
            "_________________________________________________________________\n",
            "large_concat4 (Concatenate)  (None, 32, 32, 128)       0         \n",
            "_________________________________________________________________\n",
            "large_bn4 (BatchNormalizatio (None, 32, 32, 128)       512       \n",
            "_________________________________________________________________\n",
            "large_relu4 (ReLU)           (None, 32, 32, 128)       0         \n",
            "_________________________________________________________________\n",
            "large_conv5 (Conv2D)         (None, 32, 32, 64)        73792     \n",
            "_________________________________________________________________\n",
            "large_bn5 (BatchNormalizatio (None, 32, 32, 64)        256       \n",
            "_________________________________________________________________\n",
            "large_relu5 (ReLU)           (None, 32, 32, 64)        0         \n",
            "_________________________________________________________________\n",
            "large_conv6 (Conv2D)         (None, 32, 32, 64)        36928     \n",
            "_________________________________________________________________\n",
            "large_bn6 (BatchNormalizatio (None, 32, 32, 64)        256       \n",
            "_________________________________________________________________\n",
            "large_relu6 (ReLU)           (None, 32, 32, 64)        0         \n",
            "_________________________________________________________________\n",
            "large_class_conv1 (Conv2D)   (None, 16, 16, 128)       73856     \n",
            "_________________________________________________________________\n",
            "large_class_conv2 (Conv2D)   (None, 8, 8, 128)         147584    \n",
            "_________________________________________________________________\n",
            "large_class_flatten (Flatten (None, 8192)              0         \n",
            "_________________________________________________________________\n",
            "dense_6 (Dense)              (None, 10)                81930     \n",
            "=================================================================\n",
            "Total params: 1,866,728\n",
            "Trainable params: 1,599,528\n",
            "Non-trainable params: 267,200\n",
            "_________________________________________________________________\n"
          ],
          "name": "stdout"
        }
      ]
    },
    {
      "cell_type": "markdown",
      "metadata": {
        "id": "PdYn3xOsNKDl"
      },
      "source": [
        "#### Fit Large Model"
      ]
    },
    {
      "cell_type": "code",
      "metadata": {
        "id": "b03diVadNKDl",
        "colab": {
          "base_uri": "https://localhost:8080/",
          "height": 1000
        },
        "outputId": "4f60dcd6-5a46-4846-ebca-a7686875c283"
      },
      "source": [
        "# Compile model graph\n",
        "large_model.compile(\n",
        "    optimizer=large_model.optimizer,\n",
        "    loss=large_model.loss_fn,\n",
        "    metrics=[\"sparse_categorical_accuracy\"])\n",
        "\n",
        "# Create checkpoint path\n",
        "if not os.path.exists(checkpoint_path):\n",
        "    os.makedirs(checkpoint_path)\n",
        "\n",
        "train(large_model, X_train_large, y_train, X_test_large, y_test, checkpoint_path,datagen=datagen)\n",
        "large_model.save_weights(\"./models/large_weights.h5\")\n",
        "\n",
        "test_loss, test_accuracy = large_model.evaluate(X_test_large, y_test)\n",
        "print(\"Large Model Test Accuracy: {}\".format(test_accuracy))"
      ],
      "execution_count": 9,
      "outputs": [
        {
          "output_type": "stream",
          "text": [
            "Epoch 1/25\n",
            "WARNING:tensorflow:Gradients do not exist for variables ['small_model_2/small_conv1/kernel:0', 'small_model_2/small_conv1/bias:0', 'small_model_2/small_bn1/gamma:0', 'small_model_2/small_bn1/beta:0', 'small_model_2/small_conv2/kernel:0', 'small_model_2/small_conv2/bias:0', 'small_model_2/small_bn2/gamma:0', 'small_model_2/small_bn2/beta:0', 'small_model_2/small_class_conv1/kernel:0', 'small_model_2/small_class_conv1/bias:0', 'small_model_2/small_class_conv2/kernel:0', 'small_model_2/small_class_conv2/bias:0', 'small_model_2/dense_3/kernel:0', 'small_model_2/dense_3/bias:0', 'small_model_3/small_conv1/kernel:0', 'small_model_3/small_conv1/bias:0', 'small_model_3/small_bn1/gamma:0', 'small_model_3/small_bn1/beta:0', 'small_model_3/small_conv2/kernel:0', 'small_model_3/small_conv2/bias:0', 'small_model_3/small_bn2/gamma:0', 'small_model_3/small_bn2/beta:0', 'small_model_3/small_class_conv1/kernel:0', 'small_model_3/small_class_conv1/bias:0', 'small_model_3/small_class_conv2/kernel:0', 'small_model_3/small_class_conv2/bias:0', 'small_model_3/dense_4/kernel:0', 'small_model_3/dense_4/bias:0', 'med_model_1/small_bn1/gamma:0', 'med_model_1/small_bn1/beta:0', 'med_model_1/med_conv1/kernel:0', 'med_model_1/med_conv1/bias:0', 'med_model_1/med_bn1/gamma:0', 'med_model_1/med_bn1/beta:0', 'med_model_1/med_conv2/kernel:0', 'med_model_1/med_conv2/bias:0', 'med_model_1/med_bn2/gamma:0', 'med_model_1/med_bn2/beta:0', 'med_model_1/med_conv3/kernel:0', 'med_model_1/med_conv3/bias:0', 'med_model_1/med_bn3/gamma:0', 'med_model_1/med_bn3/beta:0', 'med_model_1/med_conv4/kernel:0', 'med_model_1/med_conv4/bias:0', 'med_model_1/med_bn4/gamma:0', 'med_model_1/med_bn4/beta:0', 'med_model_1/med_class_conv1/kernel:0', 'med_model_1/med_class_conv1/bias:0', 'med_model_1/med_class_conv2/kernel:0', 'med_model_1/med_class_conv2/bias:0', 'med_model_1/dense_5/kernel:0', 'med_model_1/dense_5/bias:0'] when minimizing the loss.\n",
            "WARNING:tensorflow:Gradients do not exist for variables ['small_model_2/small_conv1/kernel:0', 'small_model_2/small_conv1/bias:0', 'small_model_2/small_bn1/gamma:0', 'small_model_2/small_bn1/beta:0', 'small_model_2/small_conv2/kernel:0', 'small_model_2/small_conv2/bias:0', 'small_model_2/small_bn2/gamma:0', 'small_model_2/small_bn2/beta:0', 'small_model_2/small_class_conv1/kernel:0', 'small_model_2/small_class_conv1/bias:0', 'small_model_2/small_class_conv2/kernel:0', 'small_model_2/small_class_conv2/bias:0', 'small_model_2/dense_3/kernel:0', 'small_model_2/dense_3/bias:0', 'small_model_3/small_conv1/kernel:0', 'small_model_3/small_conv1/bias:0', 'small_model_3/small_bn1/gamma:0', 'small_model_3/small_bn1/beta:0', 'small_model_3/small_conv2/kernel:0', 'small_model_3/small_conv2/bias:0', 'small_model_3/small_bn2/gamma:0', 'small_model_3/small_bn2/beta:0', 'small_model_3/small_class_conv1/kernel:0', 'small_model_3/small_class_conv1/bias:0', 'small_model_3/small_class_conv2/kernel:0', 'small_model_3/small_class_conv2/bias:0', 'small_model_3/dense_4/kernel:0', 'small_model_3/dense_4/bias:0', 'med_model_1/small_bn1/gamma:0', 'med_model_1/small_bn1/beta:0', 'med_model_1/med_conv1/kernel:0', 'med_model_1/med_conv1/bias:0', 'med_model_1/med_bn1/gamma:0', 'med_model_1/med_bn1/beta:0', 'med_model_1/med_conv2/kernel:0', 'med_model_1/med_conv2/bias:0', 'med_model_1/med_bn2/gamma:0', 'med_model_1/med_bn2/beta:0', 'med_model_1/med_conv3/kernel:0', 'med_model_1/med_conv3/bias:0', 'med_model_1/med_bn3/gamma:0', 'med_model_1/med_bn3/beta:0', 'med_model_1/med_conv4/kernel:0', 'med_model_1/med_conv4/bias:0', 'med_model_1/med_bn4/gamma:0', 'med_model_1/med_bn4/beta:0', 'med_model_1/med_class_conv1/kernel:0', 'med_model_1/med_class_conv1/bias:0', 'med_model_1/med_class_conv2/kernel:0', 'med_model_1/med_class_conv2/bias:0', 'med_model_1/dense_5/kernel:0', 'med_model_1/dense_5/bias:0'] when minimizing the loss.\n",
            "WARNING:tensorflow:Gradients do not exist for variables ['small_model_2/small_conv1/kernel:0', 'small_model_2/small_conv1/bias:0', 'small_model_2/small_bn1/gamma:0', 'small_model_2/small_bn1/beta:0', 'small_model_2/small_conv2/kernel:0', 'small_model_2/small_conv2/bias:0', 'small_model_2/small_bn2/gamma:0', 'small_model_2/small_bn2/beta:0', 'small_model_2/small_class_conv1/kernel:0', 'small_model_2/small_class_conv1/bias:0', 'small_model_2/small_class_conv2/kernel:0', 'small_model_2/small_class_conv2/bias:0', 'small_model_2/dense_3/kernel:0', 'small_model_2/dense_3/bias:0', 'small_model_3/small_conv1/kernel:0', 'small_model_3/small_conv1/bias:0', 'small_model_3/small_bn1/gamma:0', 'small_model_3/small_bn1/beta:0', 'small_model_3/small_conv2/kernel:0', 'small_model_3/small_conv2/bias:0', 'small_model_3/small_bn2/gamma:0', 'small_model_3/small_bn2/beta:0', 'small_model_3/small_class_conv1/kernel:0', 'small_model_3/small_class_conv1/bias:0', 'small_model_3/small_class_conv2/kernel:0', 'small_model_3/small_class_conv2/bias:0', 'small_model_3/dense_4/kernel:0', 'small_model_3/dense_4/bias:0', 'med_model_1/small_bn1/gamma:0', 'med_model_1/small_bn1/beta:0', 'med_model_1/med_conv1/kernel:0', 'med_model_1/med_conv1/bias:0', 'med_model_1/med_bn1/gamma:0', 'med_model_1/med_bn1/beta:0', 'med_model_1/med_conv2/kernel:0', 'med_model_1/med_conv2/bias:0', 'med_model_1/med_bn2/gamma:0', 'med_model_1/med_bn2/beta:0', 'med_model_1/med_conv3/kernel:0', 'med_model_1/med_conv3/bias:0', 'med_model_1/med_bn3/gamma:0', 'med_model_1/med_bn3/beta:0', 'med_model_1/med_conv4/kernel:0', 'med_model_1/med_conv4/bias:0', 'med_model_1/med_bn4/gamma:0', 'med_model_1/med_bn4/beta:0', 'med_model_1/med_class_conv1/kernel:0', 'med_model_1/med_class_conv1/bias:0', 'med_model_1/med_class_conv2/kernel:0', 'med_model_1/med_class_conv2/bias:0', 'med_model_1/dense_5/kernel:0', 'med_model_1/dense_5/bias:0'] when minimizing the loss.\n",
            "WARNING:tensorflow:Gradients do not exist for variables ['small_model_2/small_conv1/kernel:0', 'small_model_2/small_conv1/bias:0', 'small_model_2/small_bn1/gamma:0', 'small_model_2/small_bn1/beta:0', 'small_model_2/small_conv2/kernel:0', 'small_model_2/small_conv2/bias:0', 'small_model_2/small_bn2/gamma:0', 'small_model_2/small_bn2/beta:0', 'small_model_2/small_class_conv1/kernel:0', 'small_model_2/small_class_conv1/bias:0', 'small_model_2/small_class_conv2/kernel:0', 'small_model_2/small_class_conv2/bias:0', 'small_model_2/dense_3/kernel:0', 'small_model_2/dense_3/bias:0', 'small_model_3/small_conv1/kernel:0', 'small_model_3/small_conv1/bias:0', 'small_model_3/small_bn1/gamma:0', 'small_model_3/small_bn1/beta:0', 'small_model_3/small_conv2/kernel:0', 'small_model_3/small_conv2/bias:0', 'small_model_3/small_bn2/gamma:0', 'small_model_3/small_bn2/beta:0', 'small_model_3/small_class_conv1/kernel:0', 'small_model_3/small_class_conv1/bias:0', 'small_model_3/small_class_conv2/kernel:0', 'small_model_3/small_class_conv2/bias:0', 'small_model_3/dense_4/kernel:0', 'small_model_3/dense_4/bias:0', 'med_model_1/small_bn1/gamma:0', 'med_model_1/small_bn1/beta:0', 'med_model_1/med_conv1/kernel:0', 'med_model_1/med_conv1/bias:0', 'med_model_1/med_bn1/gamma:0', 'med_model_1/med_bn1/beta:0', 'med_model_1/med_conv2/kernel:0', 'med_model_1/med_conv2/bias:0', 'med_model_1/med_bn2/gamma:0', 'med_model_1/med_bn2/beta:0', 'med_model_1/med_conv3/kernel:0', 'med_model_1/med_conv3/bias:0', 'med_model_1/med_bn3/gamma:0', 'med_model_1/med_bn3/beta:0', 'med_model_1/med_conv4/kernel:0', 'med_model_1/med_conv4/bias:0', 'med_model_1/med_bn4/gamma:0', 'med_model_1/med_bn4/beta:0', 'med_model_1/med_class_conv1/kernel:0', 'med_model_1/med_class_conv1/bias:0', 'med_model_1/med_class_conv2/kernel:0', 'med_model_1/med_class_conv2/bias:0', 'med_model_1/dense_5/kernel:0', 'med_model_1/dense_5/bias:0'] when minimizing the loss.\n",
            "782/782 [==============================] - 51s 65ms/step - loss: 1.6780 - sparse_categorical_accuracy: 0.3867 - val_loss: 1.3253 - val_sparse_categorical_accuracy: 0.5199\n",
            "Epoch 2/25\n",
            "782/782 [==============================] - 51s 65ms/step - loss: 1.2069 - sparse_categorical_accuracy: 0.5679 - val_loss: 1.1429 - val_sparse_categorical_accuracy: 0.5918\n",
            "Epoch 3/25\n",
            "782/782 [==============================] - 51s 65ms/step - loss: 1.0712 - sparse_categorical_accuracy: 0.6198 - val_loss: 1.0477 - val_sparse_categorical_accuracy: 0.6279\n",
            "Epoch 4/25\n",
            "782/782 [==============================] - 51s 65ms/step - loss: 0.9905 - sparse_categorical_accuracy: 0.6512 - val_loss: 0.9969 - val_sparse_categorical_accuracy: 0.6492\n",
            "Epoch 5/25\n",
            "782/782 [==============================] - 51s 65ms/step - loss: 0.9428 - sparse_categorical_accuracy: 0.6684 - val_loss: 0.9661 - val_sparse_categorical_accuracy: 0.6597\n",
            "Epoch 6/25\n",
            "782/782 [==============================] - 51s 65ms/step - loss: 0.9063 - sparse_categorical_accuracy: 0.6832 - val_loss: 0.9424 - val_sparse_categorical_accuracy: 0.6672\n",
            "Epoch 7/25\n",
            "782/782 [==============================] - 51s 65ms/step - loss: 0.8778 - sparse_categorical_accuracy: 0.6935 - val_loss: 0.9248 - val_sparse_categorical_accuracy: 0.6751\n",
            "Epoch 8/25\n",
            "782/782 [==============================] - 51s 65ms/step - loss: 0.8502 - sparse_categorical_accuracy: 0.7038 - val_loss: 0.9090 - val_sparse_categorical_accuracy: 0.6827\n",
            "Epoch 9/25\n",
            "782/782 [==============================] - 51s 65ms/step - loss: 0.8286 - sparse_categorical_accuracy: 0.7126 - val_loss: 0.8974 - val_sparse_categorical_accuracy: 0.6874\n",
            "Epoch 10/25\n",
            "782/782 [==============================] - 51s 65ms/step - loss: 0.8069 - sparse_categorical_accuracy: 0.7212 - val_loss: 0.8865 - val_sparse_categorical_accuracy: 0.6922\n",
            "Epoch 11/25\n",
            "782/782 [==============================] - 51s 66ms/step - loss: 0.7873 - sparse_categorical_accuracy: 0.7274 - val_loss: 0.8748 - val_sparse_categorical_accuracy: 0.6951\n",
            "Epoch 12/25\n",
            "782/782 [==============================] - 51s 65ms/step - loss: 0.7724 - sparse_categorical_accuracy: 0.7327 - val_loss: 0.8644 - val_sparse_categorical_accuracy: 0.6994\n",
            "Epoch 13/25\n",
            "782/782 [==============================] - 51s 65ms/step - loss: 0.7543 - sparse_categorical_accuracy: 0.7421 - val_loss: 0.8636 - val_sparse_categorical_accuracy: 0.6999\n",
            "Epoch 14/25\n",
            "782/782 [==============================] - 51s 65ms/step - loss: 0.7397 - sparse_categorical_accuracy: 0.7467 - val_loss: 0.8486 - val_sparse_categorical_accuracy: 0.7052\n",
            "Epoch 15/25\n",
            "782/782 [==============================] - 51s 65ms/step - loss: 0.7268 - sparse_categorical_accuracy: 0.7512 - val_loss: 0.8441 - val_sparse_categorical_accuracy: 0.7039\n",
            "Epoch 16/25\n",
            "782/782 [==============================] - 51s 65ms/step - loss: 0.7151 - sparse_categorical_accuracy: 0.7555 - val_loss: 0.8470 - val_sparse_categorical_accuracy: 0.7036\n",
            "Epoch 17/25\n",
            "782/782 [==============================] - 51s 65ms/step - loss: 0.7034 - sparse_categorical_accuracy: 0.7574 - val_loss: 0.8371 - val_sparse_categorical_accuracy: 0.7067\n",
            "Epoch 18/25\n",
            "782/782 [==============================] - 51s 66ms/step - loss: 0.6884 - sparse_categorical_accuracy: 0.7624 - val_loss: 0.8303 - val_sparse_categorical_accuracy: 0.7115\n",
            "Epoch 19/25\n",
            "782/782 [==============================] - 51s 65ms/step - loss: 0.6788 - sparse_categorical_accuracy: 0.7680 - val_loss: 0.8226 - val_sparse_categorical_accuracy: 0.7093\n",
            "Epoch 20/25\n",
            "782/782 [==============================] - 51s 65ms/step - loss: 0.6644 - sparse_categorical_accuracy: 0.7718 - val_loss: 0.8159 - val_sparse_categorical_accuracy: 0.7124\n",
            "Epoch 21/25\n",
            "782/782 [==============================] - 51s 65ms/step - loss: 0.6530 - sparse_categorical_accuracy: 0.7771 - val_loss: 0.8129 - val_sparse_categorical_accuracy: 0.7144\n",
            "Epoch 22/25\n",
            "782/782 [==============================] - 51s 65ms/step - loss: 0.6434 - sparse_categorical_accuracy: 0.7787 - val_loss: 0.8180 - val_sparse_categorical_accuracy: 0.7122\n",
            "Epoch 23/25\n",
            "782/782 [==============================] - 51s 65ms/step - loss: 0.6368 - sparse_categorical_accuracy: 0.7824 - val_loss: 0.8053 - val_sparse_categorical_accuracy: 0.7156\n",
            "Epoch 24/25\n",
            "782/782 [==============================] - 51s 65ms/step - loss: 0.6227 - sparse_categorical_accuracy: 0.7889 - val_loss: 0.7991 - val_sparse_categorical_accuracy: 0.7227\n",
            "Epoch 25/25\n",
            "782/782 [==============================] - 51s 65ms/step - loss: 0.6131 - sparse_categorical_accuracy: 0.7895 - val_loss: 0.8145 - val_sparse_categorical_accuracy: 0.7145\n"
          ],
          "name": "stdout"
        },
        {
          "output_type": "error",
          "ename": "ValueError",
          "evalue": "ignored",
          "traceback": [
            "\u001b[0;31m---------------------------------------------------------------------------\u001b[0m",
            "\u001b[0;31mValueError\u001b[0m                                Traceback (most recent call last)",
            "\u001b[0;32m<ipython-input-9-e1f76628a932>\u001b[0m in \u001b[0;36m<module>\u001b[0;34m()\u001b[0m\n\u001b[1;32m     12\u001b[0m \u001b[0mlarge_model\u001b[0m\u001b[0;34m.\u001b[0m\u001b[0msave_weights\u001b[0m\u001b[0;34m(\u001b[0m\u001b[0;34m\"./models/large_model.h5\"\u001b[0m\u001b[0;34m)\u001b[0m\u001b[0;34m\u001b[0m\u001b[0;34m\u001b[0m\u001b[0m\n\u001b[1;32m     13\u001b[0m \u001b[0;34m\u001b[0m\u001b[0m\n\u001b[0;32m---> 14\u001b[0;31m \u001b[0mtest_loss\u001b[0m\u001b[0;34m,\u001b[0m \u001b[0mtest_accuracy\u001b[0m \u001b[0;34m=\u001b[0m \u001b[0mmed_model\u001b[0m\u001b[0;34m.\u001b[0m\u001b[0mevaluate\u001b[0m\u001b[0;34m(\u001b[0m\u001b[0mX_test_large\u001b[0m\u001b[0;34m,\u001b[0m \u001b[0my_test\u001b[0m\u001b[0;34m)\u001b[0m\u001b[0;34m\u001b[0m\u001b[0;34m\u001b[0m\u001b[0m\n\u001b[0m\u001b[1;32m     15\u001b[0m \u001b[0mprint\u001b[0m\u001b[0;34m(\u001b[0m\u001b[0;34m\"Large Model Test Accuracy: {}\"\u001b[0m\u001b[0;34m.\u001b[0m\u001b[0mformat\u001b[0m\u001b[0;34m(\u001b[0m\u001b[0mtest_accuracy\u001b[0m\u001b[0;34m)\u001b[0m\u001b[0;34m)\u001b[0m\u001b[0;34m\u001b[0m\u001b[0;34m\u001b[0m\u001b[0m\n",
            "\u001b[0;32m/usr/local/lib/python3.6/dist-packages/tensorflow/python/keras/engine/training.py\u001b[0m in \u001b[0;36m_method_wrapper\u001b[0;34m(self, *args, **kwargs)\u001b[0m\n\u001b[1;32m    106\u001b[0m   \u001b[0;32mdef\u001b[0m \u001b[0m_method_wrapper\u001b[0m\u001b[0;34m(\u001b[0m\u001b[0mself\u001b[0m\u001b[0;34m,\u001b[0m \u001b[0;34m*\u001b[0m\u001b[0margs\u001b[0m\u001b[0;34m,\u001b[0m \u001b[0;34m**\u001b[0m\u001b[0mkwargs\u001b[0m\u001b[0;34m)\u001b[0m\u001b[0;34m:\u001b[0m\u001b[0;34m\u001b[0m\u001b[0;34m\u001b[0m\u001b[0m\n\u001b[1;32m    107\u001b[0m     \u001b[0;32mif\u001b[0m \u001b[0;32mnot\u001b[0m \u001b[0mself\u001b[0m\u001b[0;34m.\u001b[0m\u001b[0m_in_multi_worker_mode\u001b[0m\u001b[0;34m(\u001b[0m\u001b[0;34m)\u001b[0m\u001b[0;34m:\u001b[0m  \u001b[0;31m# pylint: disable=protected-access\u001b[0m\u001b[0;34m\u001b[0m\u001b[0;34m\u001b[0m\u001b[0m\n\u001b[0;32m--> 108\u001b[0;31m       \u001b[0;32mreturn\u001b[0m \u001b[0mmethod\u001b[0m\u001b[0;34m(\u001b[0m\u001b[0mself\u001b[0m\u001b[0;34m,\u001b[0m \u001b[0;34m*\u001b[0m\u001b[0margs\u001b[0m\u001b[0;34m,\u001b[0m \u001b[0;34m**\u001b[0m\u001b[0mkwargs\u001b[0m\u001b[0;34m)\u001b[0m\u001b[0;34m\u001b[0m\u001b[0;34m\u001b[0m\u001b[0m\n\u001b[0m\u001b[1;32m    109\u001b[0m \u001b[0;34m\u001b[0m\u001b[0m\n\u001b[1;32m    110\u001b[0m     \u001b[0;31m# Running inside `run_distribute_coordinator` already.\u001b[0m\u001b[0;34m\u001b[0m\u001b[0;34m\u001b[0m\u001b[0;34m\u001b[0m\u001b[0m\n",
            "\u001b[0;32m/usr/local/lib/python3.6/dist-packages/tensorflow/python/keras/engine/training.py\u001b[0m in \u001b[0;36mevaluate\u001b[0;34m(self, x, y, batch_size, verbose, sample_weight, steps, callbacks, max_queue_size, workers, use_multiprocessing, return_dict)\u001b[0m\n\u001b[1;32m   1377\u001b[0m             \u001b[0;32mwith\u001b[0m \u001b[0mtrace\u001b[0m\u001b[0;34m.\u001b[0m\u001b[0mTrace\u001b[0m\u001b[0;34m(\u001b[0m\u001b[0;34m'TraceContext'\u001b[0m\u001b[0;34m,\u001b[0m \u001b[0mgraph_type\u001b[0m\u001b[0;34m=\u001b[0m\u001b[0;34m'test'\u001b[0m\u001b[0;34m,\u001b[0m \u001b[0mstep_num\u001b[0m\u001b[0;34m=\u001b[0m\u001b[0mstep\u001b[0m\u001b[0;34m)\u001b[0m\u001b[0;34m:\u001b[0m\u001b[0;34m\u001b[0m\u001b[0;34m\u001b[0m\u001b[0m\n\u001b[1;32m   1378\u001b[0m               \u001b[0mcallbacks\u001b[0m\u001b[0;34m.\u001b[0m\u001b[0mon_test_batch_begin\u001b[0m\u001b[0;34m(\u001b[0m\u001b[0mstep\u001b[0m\u001b[0;34m)\u001b[0m\u001b[0;34m\u001b[0m\u001b[0;34m\u001b[0m\u001b[0m\n\u001b[0;32m-> 1379\u001b[0;31m               \u001b[0mtmp_logs\u001b[0m \u001b[0;34m=\u001b[0m \u001b[0mtest_function\u001b[0m\u001b[0;34m(\u001b[0m\u001b[0miterator\u001b[0m\u001b[0;34m)\u001b[0m\u001b[0;34m\u001b[0m\u001b[0;34m\u001b[0m\u001b[0m\n\u001b[0m\u001b[1;32m   1380\u001b[0m               \u001b[0;32mif\u001b[0m \u001b[0mdata_handler\u001b[0m\u001b[0;34m.\u001b[0m\u001b[0mshould_sync\u001b[0m\u001b[0;34m:\u001b[0m\u001b[0;34m\u001b[0m\u001b[0;34m\u001b[0m\u001b[0m\n\u001b[1;32m   1381\u001b[0m                 \u001b[0mcontext\u001b[0m\u001b[0;34m.\u001b[0m\u001b[0masync_wait\u001b[0m\u001b[0;34m(\u001b[0m\u001b[0;34m)\u001b[0m\u001b[0;34m\u001b[0m\u001b[0;34m\u001b[0m\u001b[0m\n",
            "\u001b[0;32m/usr/local/lib/python3.6/dist-packages/tensorflow/python/eager/def_function.py\u001b[0m in \u001b[0;36m__call__\u001b[0;34m(self, *args, **kwds)\u001b[0m\n\u001b[1;32m    778\u001b[0m       \u001b[0;32melse\u001b[0m\u001b[0;34m:\u001b[0m\u001b[0;34m\u001b[0m\u001b[0;34m\u001b[0m\u001b[0m\n\u001b[1;32m    779\u001b[0m         \u001b[0mcompiler\u001b[0m \u001b[0;34m=\u001b[0m \u001b[0;34m\"nonXla\"\u001b[0m\u001b[0;34m\u001b[0m\u001b[0;34m\u001b[0m\u001b[0m\n\u001b[0;32m--> 780\u001b[0;31m         \u001b[0mresult\u001b[0m \u001b[0;34m=\u001b[0m \u001b[0mself\u001b[0m\u001b[0;34m.\u001b[0m\u001b[0m_call\u001b[0m\u001b[0;34m(\u001b[0m\u001b[0;34m*\u001b[0m\u001b[0margs\u001b[0m\u001b[0;34m,\u001b[0m \u001b[0;34m**\u001b[0m\u001b[0mkwds\u001b[0m\u001b[0;34m)\u001b[0m\u001b[0;34m\u001b[0m\u001b[0;34m\u001b[0m\u001b[0m\n\u001b[0m\u001b[1;32m    781\u001b[0m \u001b[0;34m\u001b[0m\u001b[0m\n\u001b[1;32m    782\u001b[0m       \u001b[0mnew_tracing_count\u001b[0m \u001b[0;34m=\u001b[0m \u001b[0mself\u001b[0m\u001b[0;34m.\u001b[0m\u001b[0m_get_tracing_count\u001b[0m\u001b[0;34m(\u001b[0m\u001b[0;34m)\u001b[0m\u001b[0;34m\u001b[0m\u001b[0;34m\u001b[0m\u001b[0m\n",
            "\u001b[0;32m/usr/local/lib/python3.6/dist-packages/tensorflow/python/eager/def_function.py\u001b[0m in \u001b[0;36m_call\u001b[0;34m(self, *args, **kwds)\u001b[0m\n\u001b[1;32m    812\u001b[0m       \u001b[0;31m# In this case we have not created variables on the first call. So we can\u001b[0m\u001b[0;34m\u001b[0m\u001b[0;34m\u001b[0m\u001b[0;34m\u001b[0m\u001b[0m\n\u001b[1;32m    813\u001b[0m       \u001b[0;31m# run the first trace but we should fail if variables are created.\u001b[0m\u001b[0;34m\u001b[0m\u001b[0;34m\u001b[0m\u001b[0;34m\u001b[0m\u001b[0m\n\u001b[0;32m--> 814\u001b[0;31m       \u001b[0mresults\u001b[0m \u001b[0;34m=\u001b[0m \u001b[0mself\u001b[0m\u001b[0;34m.\u001b[0m\u001b[0m_stateful_fn\u001b[0m\u001b[0;34m(\u001b[0m\u001b[0;34m*\u001b[0m\u001b[0margs\u001b[0m\u001b[0;34m,\u001b[0m \u001b[0;34m**\u001b[0m\u001b[0mkwds\u001b[0m\u001b[0;34m)\u001b[0m\u001b[0;34m\u001b[0m\u001b[0;34m\u001b[0m\u001b[0m\n\u001b[0m\u001b[1;32m    815\u001b[0m       \u001b[0;32mif\u001b[0m \u001b[0mself\u001b[0m\u001b[0;34m.\u001b[0m\u001b[0m_created_variables\u001b[0m\u001b[0;34m:\u001b[0m\u001b[0;34m\u001b[0m\u001b[0;34m\u001b[0m\u001b[0m\n\u001b[1;32m    816\u001b[0m         raise ValueError(\"Creating variables on a non-first call to a function\"\n",
            "\u001b[0;32m/usr/local/lib/python3.6/dist-packages/tensorflow/python/eager/function.py\u001b[0m in \u001b[0;36m__call__\u001b[0;34m(self, *args, **kwargs)\u001b[0m\n\u001b[1;32m   2826\u001b[0m     \u001b[0;34m\"\"\"Calls a graph function specialized to the inputs.\"\"\"\u001b[0m\u001b[0;34m\u001b[0m\u001b[0;34m\u001b[0m\u001b[0m\n\u001b[1;32m   2827\u001b[0m     \u001b[0;32mwith\u001b[0m \u001b[0mself\u001b[0m\u001b[0;34m.\u001b[0m\u001b[0m_lock\u001b[0m\u001b[0;34m:\u001b[0m\u001b[0;34m\u001b[0m\u001b[0;34m\u001b[0m\u001b[0m\n\u001b[0;32m-> 2828\u001b[0;31m       \u001b[0mgraph_function\u001b[0m\u001b[0;34m,\u001b[0m \u001b[0margs\u001b[0m\u001b[0;34m,\u001b[0m \u001b[0mkwargs\u001b[0m \u001b[0;34m=\u001b[0m \u001b[0mself\u001b[0m\u001b[0;34m.\u001b[0m\u001b[0m_maybe_define_function\u001b[0m\u001b[0;34m(\u001b[0m\u001b[0margs\u001b[0m\u001b[0;34m,\u001b[0m \u001b[0mkwargs\u001b[0m\u001b[0;34m)\u001b[0m\u001b[0;34m\u001b[0m\u001b[0;34m\u001b[0m\u001b[0m\n\u001b[0m\u001b[1;32m   2829\u001b[0m     \u001b[0;32mreturn\u001b[0m \u001b[0mgraph_function\u001b[0m\u001b[0;34m.\u001b[0m\u001b[0m_filtered_call\u001b[0m\u001b[0;34m(\u001b[0m\u001b[0margs\u001b[0m\u001b[0;34m,\u001b[0m \u001b[0mkwargs\u001b[0m\u001b[0;34m)\u001b[0m  \u001b[0;31m# pylint: disable=protected-access\u001b[0m\u001b[0;34m\u001b[0m\u001b[0;34m\u001b[0m\u001b[0m\n\u001b[1;32m   2830\u001b[0m \u001b[0;34m\u001b[0m\u001b[0m\n",
            "\u001b[0;32m/usr/local/lib/python3.6/dist-packages/tensorflow/python/eager/function.py\u001b[0m in \u001b[0;36m_maybe_define_function\u001b[0;34m(self, args, kwargs)\u001b[0m\n\u001b[1;32m   3208\u001b[0m           \u001b[0;32mand\u001b[0m \u001b[0mself\u001b[0m\u001b[0;34m.\u001b[0m\u001b[0minput_signature\u001b[0m \u001b[0;32mis\u001b[0m \u001b[0;32mNone\u001b[0m\u001b[0;34m\u001b[0m\u001b[0;34m\u001b[0m\u001b[0m\n\u001b[1;32m   3209\u001b[0m           and call_context_key in self._function_cache.missed):\n\u001b[0;32m-> 3210\u001b[0;31m         \u001b[0;32mreturn\u001b[0m \u001b[0mself\u001b[0m\u001b[0;34m.\u001b[0m\u001b[0m_define_function_with_shape_relaxation\u001b[0m\u001b[0;34m(\u001b[0m\u001b[0margs\u001b[0m\u001b[0;34m,\u001b[0m \u001b[0mkwargs\u001b[0m\u001b[0;34m)\u001b[0m\u001b[0;34m\u001b[0m\u001b[0;34m\u001b[0m\u001b[0m\n\u001b[0m\u001b[1;32m   3211\u001b[0m \u001b[0;34m\u001b[0m\u001b[0m\n\u001b[1;32m   3212\u001b[0m       \u001b[0mself\u001b[0m\u001b[0;34m.\u001b[0m\u001b[0m_function_cache\u001b[0m\u001b[0;34m.\u001b[0m\u001b[0mmissed\u001b[0m\u001b[0;34m.\u001b[0m\u001b[0madd\u001b[0m\u001b[0;34m(\u001b[0m\u001b[0mcall_context_key\u001b[0m\u001b[0;34m)\u001b[0m\u001b[0;34m\u001b[0m\u001b[0;34m\u001b[0m\u001b[0m\n",
            "\u001b[0;32m/usr/local/lib/python3.6/dist-packages/tensorflow/python/eager/function.py\u001b[0m in \u001b[0;36m_define_function_with_shape_relaxation\u001b[0;34m(self, args, kwargs)\u001b[0m\n\u001b[1;32m   3140\u001b[0m \u001b[0;34m\u001b[0m\u001b[0m\n\u001b[1;32m   3141\u001b[0m     graph_function = self._create_graph_function(\n\u001b[0;32m-> 3142\u001b[0;31m         args, kwargs, override_flat_arg_shapes=relaxed_arg_shapes)\n\u001b[0m\u001b[1;32m   3143\u001b[0m     \u001b[0mself\u001b[0m\u001b[0;34m.\u001b[0m\u001b[0m_function_cache\u001b[0m\u001b[0;34m.\u001b[0m\u001b[0marg_relaxed\u001b[0m\u001b[0;34m[\u001b[0m\u001b[0mrank_only_cache_key\u001b[0m\u001b[0;34m]\u001b[0m \u001b[0;34m=\u001b[0m \u001b[0mgraph_function\u001b[0m\u001b[0;34m\u001b[0m\u001b[0;34m\u001b[0m\u001b[0m\n\u001b[1;32m   3144\u001b[0m \u001b[0;34m\u001b[0m\u001b[0m\n",
            "\u001b[0;32m/usr/local/lib/python3.6/dist-packages/tensorflow/python/eager/function.py\u001b[0m in \u001b[0;36m_create_graph_function\u001b[0;34m(self, args, kwargs, override_flat_arg_shapes)\u001b[0m\n\u001b[1;32m   3073\u001b[0m             \u001b[0marg_names\u001b[0m\u001b[0;34m=\u001b[0m\u001b[0marg_names\u001b[0m\u001b[0;34m,\u001b[0m\u001b[0;34m\u001b[0m\u001b[0;34m\u001b[0m\u001b[0m\n\u001b[1;32m   3074\u001b[0m             \u001b[0moverride_flat_arg_shapes\u001b[0m\u001b[0;34m=\u001b[0m\u001b[0moverride_flat_arg_shapes\u001b[0m\u001b[0;34m,\u001b[0m\u001b[0;34m\u001b[0m\u001b[0;34m\u001b[0m\u001b[0m\n\u001b[0;32m-> 3075\u001b[0;31m             capture_by_value=self._capture_by_value),\n\u001b[0m\u001b[1;32m   3076\u001b[0m         \u001b[0mself\u001b[0m\u001b[0;34m.\u001b[0m\u001b[0m_function_attributes\u001b[0m\u001b[0;34m,\u001b[0m\u001b[0;34m\u001b[0m\u001b[0;34m\u001b[0m\u001b[0m\n\u001b[1;32m   3077\u001b[0m         \u001b[0mfunction_spec\u001b[0m\u001b[0;34m=\u001b[0m\u001b[0mself\u001b[0m\u001b[0;34m.\u001b[0m\u001b[0mfunction_spec\u001b[0m\u001b[0;34m,\u001b[0m\u001b[0;34m\u001b[0m\u001b[0;34m\u001b[0m\u001b[0m\n",
            "\u001b[0;32m/usr/local/lib/python3.6/dist-packages/tensorflow/python/framework/func_graph.py\u001b[0m in \u001b[0;36mfunc_graph_from_py_func\u001b[0;34m(name, python_func, args, kwargs, signature, func_graph, autograph, autograph_options, add_control_dependencies, arg_names, op_return_value, collections, capture_by_value, override_flat_arg_shapes)\u001b[0m\n\u001b[1;32m    984\u001b[0m         \u001b[0m_\u001b[0m\u001b[0;34m,\u001b[0m \u001b[0moriginal_func\u001b[0m \u001b[0;34m=\u001b[0m \u001b[0mtf_decorator\u001b[0m\u001b[0;34m.\u001b[0m\u001b[0munwrap\u001b[0m\u001b[0;34m(\u001b[0m\u001b[0mpython_func\u001b[0m\u001b[0;34m)\u001b[0m\u001b[0;34m\u001b[0m\u001b[0;34m\u001b[0m\u001b[0m\n\u001b[1;32m    985\u001b[0m \u001b[0;34m\u001b[0m\u001b[0m\n\u001b[0;32m--> 986\u001b[0;31m       \u001b[0mfunc_outputs\u001b[0m \u001b[0;34m=\u001b[0m \u001b[0mpython_func\u001b[0m\u001b[0;34m(\u001b[0m\u001b[0;34m*\u001b[0m\u001b[0mfunc_args\u001b[0m\u001b[0;34m,\u001b[0m \u001b[0;34m**\u001b[0m\u001b[0mfunc_kwargs\u001b[0m\u001b[0;34m)\u001b[0m\u001b[0;34m\u001b[0m\u001b[0;34m\u001b[0m\u001b[0m\n\u001b[0m\u001b[1;32m    987\u001b[0m \u001b[0;34m\u001b[0m\u001b[0m\n\u001b[1;32m    988\u001b[0m       \u001b[0;31m# invariant: `func_outputs` contains only Tensors, CompositeTensors,\u001b[0m\u001b[0;34m\u001b[0m\u001b[0;34m\u001b[0m\u001b[0;34m\u001b[0m\u001b[0m\n",
            "\u001b[0;32m/usr/local/lib/python3.6/dist-packages/tensorflow/python/eager/def_function.py\u001b[0m in \u001b[0;36mwrapped_fn\u001b[0;34m(*args, **kwds)\u001b[0m\n\u001b[1;32m    598\u001b[0m         \u001b[0;31m# __wrapped__ allows AutoGraph to swap in a converted function. We give\u001b[0m\u001b[0;34m\u001b[0m\u001b[0;34m\u001b[0m\u001b[0;34m\u001b[0m\u001b[0m\n\u001b[1;32m    599\u001b[0m         \u001b[0;31m# the function a weak reference to itself to avoid a reference cycle.\u001b[0m\u001b[0;34m\u001b[0m\u001b[0;34m\u001b[0m\u001b[0;34m\u001b[0m\u001b[0m\n\u001b[0;32m--> 600\u001b[0;31m         \u001b[0;32mreturn\u001b[0m \u001b[0mweak_wrapped_fn\u001b[0m\u001b[0;34m(\u001b[0m\u001b[0;34m)\u001b[0m\u001b[0;34m.\u001b[0m\u001b[0m__wrapped__\u001b[0m\u001b[0;34m(\u001b[0m\u001b[0;34m*\u001b[0m\u001b[0margs\u001b[0m\u001b[0;34m,\u001b[0m \u001b[0;34m**\u001b[0m\u001b[0mkwds\u001b[0m\u001b[0;34m)\u001b[0m\u001b[0;34m\u001b[0m\u001b[0;34m\u001b[0m\u001b[0m\n\u001b[0m\u001b[1;32m    601\u001b[0m     \u001b[0mweak_wrapped_fn\u001b[0m \u001b[0;34m=\u001b[0m \u001b[0mweakref\u001b[0m\u001b[0;34m.\u001b[0m\u001b[0mref\u001b[0m\u001b[0;34m(\u001b[0m\u001b[0mwrapped_fn\u001b[0m\u001b[0;34m)\u001b[0m\u001b[0;34m\u001b[0m\u001b[0;34m\u001b[0m\u001b[0m\n\u001b[1;32m    602\u001b[0m \u001b[0;34m\u001b[0m\u001b[0m\n",
            "\u001b[0;32m/usr/local/lib/python3.6/dist-packages/tensorflow/python/framework/func_graph.py\u001b[0m in \u001b[0;36mwrapper\u001b[0;34m(*args, **kwargs)\u001b[0m\n\u001b[1;32m    971\u001b[0m           \u001b[0;32mexcept\u001b[0m \u001b[0mException\u001b[0m \u001b[0;32mas\u001b[0m \u001b[0me\u001b[0m\u001b[0;34m:\u001b[0m  \u001b[0;31m# pylint:disable=broad-except\u001b[0m\u001b[0;34m\u001b[0m\u001b[0;34m\u001b[0m\u001b[0m\n\u001b[1;32m    972\u001b[0m             \u001b[0;32mif\u001b[0m \u001b[0mhasattr\u001b[0m\u001b[0;34m(\u001b[0m\u001b[0me\u001b[0m\u001b[0;34m,\u001b[0m \u001b[0;34m\"ag_error_metadata\"\u001b[0m\u001b[0;34m)\u001b[0m\u001b[0;34m:\u001b[0m\u001b[0;34m\u001b[0m\u001b[0;34m\u001b[0m\u001b[0m\n\u001b[0;32m--> 973\u001b[0;31m               \u001b[0;32mraise\u001b[0m \u001b[0me\u001b[0m\u001b[0;34m.\u001b[0m\u001b[0mag_error_metadata\u001b[0m\u001b[0;34m.\u001b[0m\u001b[0mto_exception\u001b[0m\u001b[0;34m(\u001b[0m\u001b[0me\u001b[0m\u001b[0;34m)\u001b[0m\u001b[0;34m\u001b[0m\u001b[0;34m\u001b[0m\u001b[0m\n\u001b[0m\u001b[1;32m    974\u001b[0m             \u001b[0;32melse\u001b[0m\u001b[0;34m:\u001b[0m\u001b[0;34m\u001b[0m\u001b[0;34m\u001b[0m\u001b[0m\n\u001b[1;32m    975\u001b[0m               \u001b[0;32mraise\u001b[0m\u001b[0;34m\u001b[0m\u001b[0;34m\u001b[0m\u001b[0m\n",
            "\u001b[0;31mValueError\u001b[0m: in user code:\n\n    /usr/local/lib/python3.6/dist-packages/tensorflow/python/keras/engine/training.py:1224 test_function  *\n        return step_function(self, iterator)\n    /content/models/med_net.py:131 call  *\n        med_class_dense = self.med_class_dense.apply(med_class_flatten)\n    /usr/local/lib/python3.6/dist-packages/tensorflow/python/util/deprecation.py:324 new_func  **\n        return func(*args, **kwargs)\n    /usr/local/lib/python3.6/dist-packages/tensorflow/python/keras/engine/base_layer.py:2226 apply\n        return self.__call__(inputs, *args, **kwargs)\n    /usr/local/lib/python3.6/dist-packages/tensorflow/python/keras/engine/base_layer.py:976 __call__\n        self.name)\n    /usr/local/lib/python3.6/dist-packages/tensorflow/python/keras/engine/input_spec.py:216 assert_input_compatibility\n        ' but received input with shape ' + str(shape))\n\n    ValueError: Input 0 of layer dense_2 is incompatible with the layer: expected axis -1 of input shape to have value 2048 but received input with shape [None, 8192]\n"
          ]
        }
      ]
    },
    {
      "cell_type": "code",
      "metadata": {
        "colab": {
          "base_uri": "https://localhost:8080/"
        },
        "id": "IHrlkKgs0qBZ",
        "outputId": "0fb73f31-c896-479f-863b-771718be50e1"
      },
      "source": [
        "test_loss, test_accuracy = large_model.evaluate(X_test_large, y_test)\n",
        "print(\"Large Model Test Accuracy: {}\".format(test_accuracy))"
      ],
      "execution_count": 10,
      "outputs": [
        {
          "output_type": "stream",
          "text": [
            "313/313 [==============================] - 3s 11ms/step - loss: 0.8145 - sparse_categorical_accuracy: 0.7145\n",
            "Large Model Test Accuracy: 0.7145000100135803\n"
          ],
          "name": "stdout"
        }
      ]
    },
    {
      "cell_type": "code",
      "metadata": {
        "colab": {
          "base_uri": "https://localhost:8080/",
          "height": 17
        },
        "id": "ig09XRO91JM1",
        "outputId": "62ae0e40-a60f-459a-ab5b-07d7a139d7b5"
      },
      "source": [
        "from google.colab import files\n",
        "files.download('models/large_weights.h5')\n",
        "files.download('models/med_weights.h5')\n",
        "files.download('models/small_weights.h5')"
      ],
      "execution_count": 20,
      "outputs": [
        {
          "output_type": "display_data",
          "data": {
            "application/javascript": [
              "\n",
              "    async function download(id, filename, size) {\n",
              "      if (!google.colab.kernel.accessAllowed) {\n",
              "        return;\n",
              "      }\n",
              "      const div = document.createElement('div');\n",
              "      const label = document.createElement('label');\n",
              "      label.textContent = `Downloading \"${filename}\": `;\n",
              "      div.appendChild(label);\n",
              "      const progress = document.createElement('progress');\n",
              "      progress.max = size;\n",
              "      div.appendChild(progress);\n",
              "      document.body.appendChild(div);\n",
              "\n",
              "      const buffers = [];\n",
              "      let downloaded = 0;\n",
              "\n",
              "      const channel = await google.colab.kernel.comms.open(id);\n",
              "      // Send a message to notify the kernel that we're ready.\n",
              "      channel.send({})\n",
              "\n",
              "      for await (const message of channel.messages) {\n",
              "        // Send a message to notify the kernel that we're ready.\n",
              "        channel.send({})\n",
              "        if (message.buffers) {\n",
              "          for (const buffer of message.buffers) {\n",
              "            buffers.push(buffer);\n",
              "            downloaded += buffer.byteLength;\n",
              "            progress.value = downloaded;\n",
              "          }\n",
              "        }\n",
              "      }\n",
              "      const blob = new Blob(buffers, {type: 'application/binary'});\n",
              "      const a = document.createElement('a');\n",
              "      a.href = window.URL.createObjectURL(blob);\n",
              "      a.download = filename;\n",
              "      div.appendChild(a);\n",
              "      a.click();\n",
              "      div.remove();\n",
              "    }\n",
              "  "
            ],
            "text/plain": [
              "<IPython.core.display.Javascript object>"
            ]
          },
          "metadata": {
            "tags": []
          }
        },
        {
          "output_type": "display_data",
          "data": {
            "application/javascript": [
              "download(\"download_b2618d6f-4723-4ac2-9c76-4f5a0319786f\", \"large_weights.h5\", 7651912)"
            ],
            "text/plain": [
              "<IPython.core.display.Javascript object>"
            ]
          },
          "metadata": {
            "tags": []
          }
        },
        {
          "output_type": "display_data",
          "data": {
            "application/javascript": [
              "\n",
              "    async function download(id, filename, size) {\n",
              "      if (!google.colab.kernel.accessAllowed) {\n",
              "        return;\n",
              "      }\n",
              "      const div = document.createElement('div');\n",
              "      const label = document.createElement('label');\n",
              "      label.textContent = `Downloading \"${filename}\": `;\n",
              "      div.appendChild(label);\n",
              "      const progress = document.createElement('progress');\n",
              "      progress.max = size;\n",
              "      div.appendChild(progress);\n",
              "      document.body.appendChild(div);\n",
              "\n",
              "      const buffers = [];\n",
              "      let downloaded = 0;\n",
              "\n",
              "      const channel = await google.colab.kernel.comms.open(id);\n",
              "      // Send a message to notify the kernel that we're ready.\n",
              "      channel.send({})\n",
              "\n",
              "      for await (const message of channel.messages) {\n",
              "        // Send a message to notify the kernel that we're ready.\n",
              "        channel.send({})\n",
              "        if (message.buffers) {\n",
              "          for (const buffer of message.buffers) {\n",
              "            buffers.push(buffer);\n",
              "            downloaded += buffer.byteLength;\n",
              "            progress.value = downloaded;\n",
              "          }\n",
              "        }\n",
              "      }\n",
              "      const blob = new Blob(buffers, {type: 'application/binary'});\n",
              "      const a = document.createElement('a');\n",
              "      a.href = window.URL.createObjectURL(blob);\n",
              "      a.download = filename;\n",
              "      div.appendChild(a);\n",
              "      a.click();\n",
              "      div.remove();\n",
              "    }\n",
              "  "
            ],
            "text/plain": [
              "<IPython.core.display.Javascript object>"
            ]
          },
          "metadata": {
            "tags": []
          }
        },
        {
          "output_type": "display_data",
          "data": {
            "application/javascript": [
              "download(\"download_6516b9a7-c2ef-4d4f-a28e-0104dc4a6b05\", \"med_weights.h5\", 3025680)"
            ],
            "text/plain": [
              "<IPython.core.display.Javascript object>"
            ]
          },
          "metadata": {
            "tags": []
          }
        },
        {
          "output_type": "display_data",
          "data": {
            "application/javascript": [
              "\n",
              "    async function download(id, filename, size) {\n",
              "      if (!google.colab.kernel.accessAllowed) {\n",
              "        return;\n",
              "      }\n",
              "      const div = document.createElement('div');\n",
              "      const label = document.createElement('label');\n",
              "      label.textContent = `Downloading \"${filename}\": `;\n",
              "      div.appendChild(label);\n",
              "      const progress = document.createElement('progress');\n",
              "      progress.max = size;\n",
              "      div.appendChild(progress);\n",
              "      document.body.appendChild(div);\n",
              "\n",
              "      const buffers = [];\n",
              "      let downloaded = 0;\n",
              "\n",
              "      const channel = await google.colab.kernel.comms.open(id);\n",
              "      // Send a message to notify the kernel that we're ready.\n",
              "      channel.send({})\n",
              "\n",
              "      for await (const message of channel.messages) {\n",
              "        // Send a message to notify the kernel that we're ready.\n",
              "        channel.send({})\n",
              "        if (message.buffers) {\n",
              "          for (const buffer of message.buffers) {\n",
              "            buffers.push(buffer);\n",
              "            downloaded += buffer.byteLength;\n",
              "            progress.value = downloaded;\n",
              "          }\n",
              "        }\n",
              "      }\n",
              "      const blob = new Blob(buffers, {type: 'application/binary'});\n",
              "      const a = document.createElement('a');\n",
              "      a.href = window.URL.createObjectURL(blob);\n",
              "      a.download = filename;\n",
              "      div.appendChild(a);\n",
              "      a.click();\n",
              "      div.remove();\n",
              "    }\n",
              "  "
            ],
            "text/plain": [
              "<IPython.core.display.Javascript object>"
            ]
          },
          "metadata": {
            "tags": []
          }
        },
        {
          "output_type": "display_data",
          "data": {
            "application/javascript": [
              "download(\"download_d5d253f3-1701-4687-a3ac-c5de169f1faf\", \"small_weights.h5\", 1100488)"
            ],
            "text/plain": [
              "<IPython.core.display.Javascript object>"
            ]
          },
          "metadata": {
            "tags": []
          }
        }
      ]
    },
    {
      "cell_type": "code",
      "metadata": {
        "colab": {
          "base_uri": "https://localhost:8080/",
          "height": 162
        },
        "id": "G4GL5A7NQddA",
        "outputId": "f6fb0025-352a-47d9-dd59-043549f1121c"
      },
      "source": [
        "while True:pass\n"
      ],
      "execution_count": 13,
      "outputs": [
        {
          "output_type": "error",
          "ename": "KeyboardInterrupt",
          "evalue": "ignored",
          "traceback": [
            "\u001b[0;31m---------------------------------------------------------------------------\u001b[0m",
            "\u001b[0;31mKeyboardInterrupt\u001b[0m                         Traceback (most recent call last)",
            "\u001b[0;32m<ipython-input-13-534b7a74019f>\u001b[0m in \u001b[0;36m<module>\u001b[0;34m()\u001b[0m\n\u001b[0;32m----> 1\u001b[0;31m \u001b[0;32mwhile\u001b[0m \u001b[0;32mTrue\u001b[0m\u001b[0;34m:\u001b[0m\u001b[0;32mpass\u001b[0m\u001b[0;34m\u001b[0m\u001b[0;34m\u001b[0m\u001b[0m\n\u001b[0m",
            "\u001b[0;31mKeyboardInterrupt\u001b[0m: "
          ]
        }
      ]
    }
  ]
}